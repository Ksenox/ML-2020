{
 "cells": [
  {
   "cell_type": "code",
   "execution_count": 29,
   "metadata": {
    "ExecuteTime": {
     "end_time": "2020-12-23T15:42:51.652937Z",
     "start_time": "2020-12-23T15:42:51.642695Z"
    }
   },
   "outputs": [],
   "source": [
    "import pandas as pd\n",
    "import numpy as np\n",
    "import matplotlib.pyplot as plt\n",
    "import seaborn as sns\n",
    "\n",
    "from sklearn.linear_model import LinearRegression, RidgeCV, SGDRegressor, LassoCV, Ridge\n",
    "from sklearn.tree import DecisionTreeRegressor\n",
    "from sklearn.neighbors import KNeighborsRegressor\n",
    "from sklearn.ensemble import GradientBoostingRegressor, RandomForestRegressor\n",
    "from sklearn.model_selection import train_test_split\n",
    "from sklearn import metrics\n",
    "from sklearn.preprocessing import StandardScaler"
   ]
  },
  {
   "cell_type": "code",
   "execution_count": 30,
   "metadata": {
    "ExecuteTime": {
     "end_time": "2020-12-23T15:42:51.703336Z",
     "start_time": "2020-12-23T15:42:51.657658Z"
    }
   },
   "outputs": [
    {
     "data": {
      "text/html": [
       "<div>\n",
       "<style scoped>\n",
       "    .dataframe tbody tr th:only-of-type {\n",
       "        vertical-align: middle;\n",
       "    }\n",
       "\n",
       "    .dataframe tbody tr th {\n",
       "        vertical-align: top;\n",
       "    }\n",
       "\n",
       "    .dataframe thead th {\n",
       "        text-align: right;\n",
       "    }\n",
       "</style>\n",
       "<table border=\"1\" class=\"dataframe\">\n",
       "  <thead>\n",
       "    <tr style=\"text-align: right;\">\n",
       "      <th></th>\n",
       "      <th>school</th>\n",
       "      <th>sex</th>\n",
       "      <th>age</th>\n",
       "      <th>address</th>\n",
       "      <th>famsize</th>\n",
       "      <th>Pstatus</th>\n",
       "      <th>Medu</th>\n",
       "      <th>Fedu</th>\n",
       "      <th>Mjob</th>\n",
       "      <th>Fjob</th>\n",
       "      <th>...</th>\n",
       "      <th>famrel</th>\n",
       "      <th>freetime</th>\n",
       "      <th>goout</th>\n",
       "      <th>Dalc</th>\n",
       "      <th>Walc</th>\n",
       "      <th>health</th>\n",
       "      <th>absences</th>\n",
       "      <th>G1</th>\n",
       "      <th>G2</th>\n",
       "      <th>G3</th>\n",
       "    </tr>\n",
       "  </thead>\n",
       "  <tbody>\n",
       "    <tr>\n",
       "      <th>0</th>\n",
       "      <td>GP</td>\n",
       "      <td>F</td>\n",
       "      <td>18</td>\n",
       "      <td>U</td>\n",
       "      <td>GT3</td>\n",
       "      <td>A</td>\n",
       "      <td>4</td>\n",
       "      <td>4</td>\n",
       "      <td>at_home</td>\n",
       "      <td>teacher</td>\n",
       "      <td>...</td>\n",
       "      <td>4</td>\n",
       "      <td>3</td>\n",
       "      <td>4</td>\n",
       "      <td>1</td>\n",
       "      <td>1</td>\n",
       "      <td>3</td>\n",
       "      <td>6</td>\n",
       "      <td>5</td>\n",
       "      <td>6</td>\n",
       "      <td>6</td>\n",
       "    </tr>\n",
       "    <tr>\n",
       "      <th>1</th>\n",
       "      <td>GP</td>\n",
       "      <td>F</td>\n",
       "      <td>17</td>\n",
       "      <td>U</td>\n",
       "      <td>GT3</td>\n",
       "      <td>T</td>\n",
       "      <td>1</td>\n",
       "      <td>1</td>\n",
       "      <td>at_home</td>\n",
       "      <td>other</td>\n",
       "      <td>...</td>\n",
       "      <td>5</td>\n",
       "      <td>3</td>\n",
       "      <td>3</td>\n",
       "      <td>1</td>\n",
       "      <td>1</td>\n",
       "      <td>3</td>\n",
       "      <td>4</td>\n",
       "      <td>5</td>\n",
       "      <td>5</td>\n",
       "      <td>6</td>\n",
       "    </tr>\n",
       "    <tr>\n",
       "      <th>2</th>\n",
       "      <td>GP</td>\n",
       "      <td>F</td>\n",
       "      <td>15</td>\n",
       "      <td>U</td>\n",
       "      <td>LE3</td>\n",
       "      <td>T</td>\n",
       "      <td>1</td>\n",
       "      <td>1</td>\n",
       "      <td>at_home</td>\n",
       "      <td>other</td>\n",
       "      <td>...</td>\n",
       "      <td>4</td>\n",
       "      <td>3</td>\n",
       "      <td>2</td>\n",
       "      <td>2</td>\n",
       "      <td>3</td>\n",
       "      <td>3</td>\n",
       "      <td>10</td>\n",
       "      <td>7</td>\n",
       "      <td>8</td>\n",
       "      <td>10</td>\n",
       "    </tr>\n",
       "    <tr>\n",
       "      <th>3</th>\n",
       "      <td>GP</td>\n",
       "      <td>F</td>\n",
       "      <td>15</td>\n",
       "      <td>U</td>\n",
       "      <td>GT3</td>\n",
       "      <td>T</td>\n",
       "      <td>4</td>\n",
       "      <td>2</td>\n",
       "      <td>health</td>\n",
       "      <td>services</td>\n",
       "      <td>...</td>\n",
       "      <td>3</td>\n",
       "      <td>2</td>\n",
       "      <td>2</td>\n",
       "      <td>1</td>\n",
       "      <td>1</td>\n",
       "      <td>5</td>\n",
       "      <td>2</td>\n",
       "      <td>15</td>\n",
       "      <td>14</td>\n",
       "      <td>15</td>\n",
       "    </tr>\n",
       "    <tr>\n",
       "      <th>4</th>\n",
       "      <td>GP</td>\n",
       "      <td>F</td>\n",
       "      <td>16</td>\n",
       "      <td>U</td>\n",
       "      <td>GT3</td>\n",
       "      <td>T</td>\n",
       "      <td>3</td>\n",
       "      <td>3</td>\n",
       "      <td>other</td>\n",
       "      <td>other</td>\n",
       "      <td>...</td>\n",
       "      <td>4</td>\n",
       "      <td>3</td>\n",
       "      <td>2</td>\n",
       "      <td>1</td>\n",
       "      <td>2</td>\n",
       "      <td>5</td>\n",
       "      <td>4</td>\n",
       "      <td>6</td>\n",
       "      <td>10</td>\n",
       "      <td>10</td>\n",
       "    </tr>\n",
       "    <tr>\n",
       "      <th>...</th>\n",
       "      <td>...</td>\n",
       "      <td>...</td>\n",
       "      <td>...</td>\n",
       "      <td>...</td>\n",
       "      <td>...</td>\n",
       "      <td>...</td>\n",
       "      <td>...</td>\n",
       "      <td>...</td>\n",
       "      <td>...</td>\n",
       "      <td>...</td>\n",
       "      <td>...</td>\n",
       "      <td>...</td>\n",
       "      <td>...</td>\n",
       "      <td>...</td>\n",
       "      <td>...</td>\n",
       "      <td>...</td>\n",
       "      <td>...</td>\n",
       "      <td>...</td>\n",
       "      <td>...</td>\n",
       "      <td>...</td>\n",
       "      <td>...</td>\n",
       "    </tr>\n",
       "    <tr>\n",
       "      <th>390</th>\n",
       "      <td>MS</td>\n",
       "      <td>M</td>\n",
       "      <td>20</td>\n",
       "      <td>U</td>\n",
       "      <td>LE3</td>\n",
       "      <td>A</td>\n",
       "      <td>2</td>\n",
       "      <td>2</td>\n",
       "      <td>services</td>\n",
       "      <td>services</td>\n",
       "      <td>...</td>\n",
       "      <td>5</td>\n",
       "      <td>5</td>\n",
       "      <td>4</td>\n",
       "      <td>4</td>\n",
       "      <td>5</td>\n",
       "      <td>4</td>\n",
       "      <td>11</td>\n",
       "      <td>9</td>\n",
       "      <td>9</td>\n",
       "      <td>9</td>\n",
       "    </tr>\n",
       "    <tr>\n",
       "      <th>391</th>\n",
       "      <td>MS</td>\n",
       "      <td>M</td>\n",
       "      <td>17</td>\n",
       "      <td>U</td>\n",
       "      <td>LE3</td>\n",
       "      <td>T</td>\n",
       "      <td>3</td>\n",
       "      <td>1</td>\n",
       "      <td>services</td>\n",
       "      <td>services</td>\n",
       "      <td>...</td>\n",
       "      <td>2</td>\n",
       "      <td>4</td>\n",
       "      <td>5</td>\n",
       "      <td>3</td>\n",
       "      <td>4</td>\n",
       "      <td>2</td>\n",
       "      <td>3</td>\n",
       "      <td>14</td>\n",
       "      <td>16</td>\n",
       "      <td>16</td>\n",
       "    </tr>\n",
       "    <tr>\n",
       "      <th>392</th>\n",
       "      <td>MS</td>\n",
       "      <td>M</td>\n",
       "      <td>21</td>\n",
       "      <td>R</td>\n",
       "      <td>GT3</td>\n",
       "      <td>T</td>\n",
       "      <td>1</td>\n",
       "      <td>1</td>\n",
       "      <td>other</td>\n",
       "      <td>other</td>\n",
       "      <td>...</td>\n",
       "      <td>5</td>\n",
       "      <td>5</td>\n",
       "      <td>3</td>\n",
       "      <td>3</td>\n",
       "      <td>3</td>\n",
       "      <td>3</td>\n",
       "      <td>3</td>\n",
       "      <td>10</td>\n",
       "      <td>8</td>\n",
       "      <td>7</td>\n",
       "    </tr>\n",
       "    <tr>\n",
       "      <th>393</th>\n",
       "      <td>MS</td>\n",
       "      <td>M</td>\n",
       "      <td>18</td>\n",
       "      <td>R</td>\n",
       "      <td>LE3</td>\n",
       "      <td>T</td>\n",
       "      <td>3</td>\n",
       "      <td>2</td>\n",
       "      <td>services</td>\n",
       "      <td>other</td>\n",
       "      <td>...</td>\n",
       "      <td>4</td>\n",
       "      <td>4</td>\n",
       "      <td>1</td>\n",
       "      <td>3</td>\n",
       "      <td>4</td>\n",
       "      <td>5</td>\n",
       "      <td>0</td>\n",
       "      <td>11</td>\n",
       "      <td>12</td>\n",
       "      <td>10</td>\n",
       "    </tr>\n",
       "    <tr>\n",
       "      <th>394</th>\n",
       "      <td>MS</td>\n",
       "      <td>M</td>\n",
       "      <td>19</td>\n",
       "      <td>U</td>\n",
       "      <td>LE3</td>\n",
       "      <td>T</td>\n",
       "      <td>1</td>\n",
       "      <td>1</td>\n",
       "      <td>other</td>\n",
       "      <td>at_home</td>\n",
       "      <td>...</td>\n",
       "      <td>3</td>\n",
       "      <td>2</td>\n",
       "      <td>3</td>\n",
       "      <td>3</td>\n",
       "      <td>3</td>\n",
       "      <td>5</td>\n",
       "      <td>5</td>\n",
       "      <td>8</td>\n",
       "      <td>9</td>\n",
       "      <td>9</td>\n",
       "    </tr>\n",
       "  </tbody>\n",
       "</table>\n",
       "<p>395 rows × 33 columns</p>\n",
       "</div>"
      ],
      "text/plain": [
       "    school sex  age address famsize Pstatus  Medu  Fedu      Mjob      Fjob  \\\n",
       "0       GP   F   18       U     GT3       A     4     4   at_home   teacher   \n",
       "1       GP   F   17       U     GT3       T     1     1   at_home     other   \n",
       "2       GP   F   15       U     LE3       T     1     1   at_home     other   \n",
       "3       GP   F   15       U     GT3       T     4     2    health  services   \n",
       "4       GP   F   16       U     GT3       T     3     3     other     other   \n",
       "..     ...  ..  ...     ...     ...     ...   ...   ...       ...       ...   \n",
       "390     MS   M   20       U     LE3       A     2     2  services  services   \n",
       "391     MS   M   17       U     LE3       T     3     1  services  services   \n",
       "392     MS   M   21       R     GT3       T     1     1     other     other   \n",
       "393     MS   M   18       R     LE3       T     3     2  services     other   \n",
       "394     MS   M   19       U     LE3       T     1     1     other   at_home   \n",
       "\n",
       "     ... famrel freetime  goout  Dalc  Walc health absences  G1  G2  G3  \n",
       "0    ...      4        3      4     1     1      3        6   5   6   6  \n",
       "1    ...      5        3      3     1     1      3        4   5   5   6  \n",
       "2    ...      4        3      2     2     3      3       10   7   8  10  \n",
       "3    ...      3        2      2     1     1      5        2  15  14  15  \n",
       "4    ...      4        3      2     1     2      5        4   6  10  10  \n",
       "..   ...    ...      ...    ...   ...   ...    ...      ...  ..  ..  ..  \n",
       "390  ...      5        5      4     4     5      4       11   9   9   9  \n",
       "391  ...      2        4      5     3     4      2        3  14  16  16  \n",
       "392  ...      5        5      3     3     3      3        3  10   8   7  \n",
       "393  ...      4        4      1     3     4      5        0  11  12  10  \n",
       "394  ...      3        2      3     3     3      5        5   8   9   9  \n",
       "\n",
       "[395 rows x 33 columns]"
      ]
     },
     "execution_count": 30,
     "metadata": {},
     "output_type": "execute_result"
    }
   ],
   "source": [
    "data = pd.read_csv('student-mat.csv')\n",
    "data"
   ]
  },
  {
   "cell_type": "markdown",
   "metadata": {},
   "source": [
    "В датасете приведено 395 наблюдений с 33 пермененные. Каждая строка представляет собой учащегося, а каждый столбец содержит характеристику."
   ]
  },
  {
   "cell_type": "markdown",
   "metadata": {},
   "source": [
    "### Статистическая информация для столбцов"
   ]
  },
  {
   "cell_type": "code",
   "execution_count": 31,
   "metadata": {
    "ExecuteTime": {
     "end_time": "2020-12-23T15:42:51.737439Z",
     "start_time": "2020-12-23T15:42:51.705526Z"
    },
    "scrolled": true
   },
   "outputs": [
    {
     "name": "stdout",
     "output_type": "stream",
     "text": [
      "\n",
      "Column Name: school\n",
      "GP    349\n",
      "MS     46\n",
      "Name: school, dtype: int64\n",
      "\n",
      "Column Name: sex\n",
      "F    208\n",
      "M    187\n",
      "Name: sex, dtype: int64\n",
      "\n",
      "Column Name: address\n",
      "U    307\n",
      "R     88\n",
      "Name: address, dtype: int64\n",
      "\n",
      "Column Name: famsize\n",
      "GT3    281\n",
      "LE3    114\n",
      "Name: famsize, dtype: int64\n",
      "\n",
      "Column Name: Pstatus\n",
      "T    354\n",
      "A     41\n",
      "Name: Pstatus, dtype: int64\n",
      "\n",
      "Column Name: Mjob\n",
      "other       141\n",
      "services    103\n",
      "at_home      59\n",
      "teacher      58\n",
      "health       34\n",
      "Name: Mjob, dtype: int64\n",
      "\n",
      "Column Name: Fjob\n",
      "other       217\n",
      "services    111\n",
      "teacher      29\n",
      "at_home      20\n",
      "health       18\n",
      "Name: Fjob, dtype: int64\n",
      "\n",
      "Column Name: reason\n",
      "course        145\n",
      "home          109\n",
      "reputation    105\n",
      "other          36\n",
      "Name: reason, dtype: int64\n",
      "\n",
      "Column Name: guardian\n",
      "mother    273\n",
      "father     90\n",
      "other      32\n",
      "Name: guardian, dtype: int64\n",
      "\n",
      "Column Name: schoolsup\n",
      "no     344\n",
      "yes     51\n",
      "Name: schoolsup, dtype: int64\n",
      "\n",
      "Column Name: famsup\n",
      "yes    242\n",
      "no     153\n",
      "Name: famsup, dtype: int64\n",
      "\n",
      "Column Name: paid\n",
      "no     214\n",
      "yes    181\n",
      "Name: paid, dtype: int64\n",
      "\n",
      "Column Name: activities\n",
      "yes    201\n",
      "no     194\n",
      "Name: activities, dtype: int64\n",
      "\n",
      "Column Name: nursery\n",
      "yes    314\n",
      "no      81\n",
      "Name: nursery, dtype: int64\n",
      "\n",
      "Column Name: higher\n",
      "yes    375\n",
      "no      20\n",
      "Name: higher, dtype: int64\n",
      "\n",
      "Column Name: internet\n",
      "yes    329\n",
      "no      66\n",
      "Name: internet, dtype: int64\n",
      "\n",
      "Column Name: romantic\n",
      "no     263\n",
      "yes    132\n",
      "Name: romantic, dtype: int64\n"
     ]
    }
   ],
   "source": [
    "for col in data.columns:\n",
    "    if data[col].dtype == 'object':\n",
    "        print('\\nColumn Name:', col,)\n",
    "        print(data[col].value_counts())"
   ]
  },
  {
   "cell_type": "code",
   "execution_count": 32,
   "metadata": {
    "ExecuteTime": {
     "end_time": "2020-12-23T15:42:51.750406Z",
     "start_time": "2020-12-23T15:42:51.739434Z"
    },
    "scrolled": true
   },
   "outputs": [
    {
     "name": "stdout",
     "output_type": "stream",
     "text": [
      "<class 'pandas.core.frame.DataFrame'>\n",
      "RangeIndex: 395 entries, 0 to 394\n",
      "Data columns (total 33 columns):\n",
      " #   Column      Non-Null Count  Dtype \n",
      "---  ------      --------------  ----- \n",
      " 0   school      395 non-null    object\n",
      " 1   sex         395 non-null    object\n",
      " 2   age         395 non-null    int64 \n",
      " 3   address     395 non-null    object\n",
      " 4   famsize     395 non-null    object\n",
      " 5   Pstatus     395 non-null    object\n",
      " 6   Medu        395 non-null    int64 \n",
      " 7   Fedu        395 non-null    int64 \n",
      " 8   Mjob        395 non-null    object\n",
      " 9   Fjob        395 non-null    object\n",
      " 10  reason      395 non-null    object\n",
      " 11  guardian    395 non-null    object\n",
      " 12  traveltime  395 non-null    int64 \n",
      " 13  studytime   395 non-null    int64 \n",
      " 14  failures    395 non-null    int64 \n",
      " 15  schoolsup   395 non-null    object\n",
      " 16  famsup      395 non-null    object\n",
      " 17  paid        395 non-null    object\n",
      " 18  activities  395 non-null    object\n",
      " 19  nursery     395 non-null    object\n",
      " 20  higher      395 non-null    object\n",
      " 21  internet    395 non-null    object\n",
      " 22  romantic    395 non-null    object\n",
      " 23  famrel      395 non-null    int64 \n",
      " 24  freetime    395 non-null    int64 \n",
      " 25  goout       395 non-null    int64 \n",
      " 26  Dalc        395 non-null    int64 \n",
      " 27  Walc        395 non-null    int64 \n",
      " 28  health      395 non-null    int64 \n",
      " 29  absences    395 non-null    int64 \n",
      " 30  G1          395 non-null    int64 \n",
      " 31  G2          395 non-null    int64 \n",
      " 32  G3          395 non-null    int64 \n",
      "dtypes: int64(16), object(17)\n",
      "memory usage: 102.0+ KB\n"
     ]
    }
   ],
   "source": [
    "data.info()"
   ]
  },
  {
   "cell_type": "markdown",
   "metadata": {},
   "source": [
    "### Описание столбцов, содержащих численную информацию"
   ]
  },
  {
   "cell_type": "code",
   "execution_count": 33,
   "metadata": {
    "ExecuteTime": {
     "end_time": "2020-12-23T15:42:51.799307Z",
     "start_time": "2020-12-23T15:42:51.751460Z"
    }
   },
   "outputs": [
    {
     "data": {
      "text/html": [
       "<div>\n",
       "<style scoped>\n",
       "    .dataframe tbody tr th:only-of-type {\n",
       "        vertical-align: middle;\n",
       "    }\n",
       "\n",
       "    .dataframe tbody tr th {\n",
       "        vertical-align: top;\n",
       "    }\n",
       "\n",
       "    .dataframe thead th {\n",
       "        text-align: right;\n",
       "    }\n",
       "</style>\n",
       "<table border=\"1\" class=\"dataframe\">\n",
       "  <thead>\n",
       "    <tr style=\"text-align: right;\">\n",
       "      <th></th>\n",
       "      <th>age</th>\n",
       "      <th>Medu</th>\n",
       "      <th>Fedu</th>\n",
       "      <th>traveltime</th>\n",
       "      <th>studytime</th>\n",
       "      <th>failures</th>\n",
       "      <th>famrel</th>\n",
       "      <th>freetime</th>\n",
       "      <th>goout</th>\n",
       "      <th>Dalc</th>\n",
       "      <th>Walc</th>\n",
       "      <th>health</th>\n",
       "      <th>absences</th>\n",
       "      <th>G1</th>\n",
       "      <th>G2</th>\n",
       "      <th>G3</th>\n",
       "    </tr>\n",
       "  </thead>\n",
       "  <tbody>\n",
       "    <tr>\n",
       "      <th>count</th>\n",
       "      <td>395.000000</td>\n",
       "      <td>395.000000</td>\n",
       "      <td>395.000000</td>\n",
       "      <td>395.000000</td>\n",
       "      <td>395.000000</td>\n",
       "      <td>395.000000</td>\n",
       "      <td>395.000000</td>\n",
       "      <td>395.000000</td>\n",
       "      <td>395.000000</td>\n",
       "      <td>395.000000</td>\n",
       "      <td>395.000000</td>\n",
       "      <td>395.000000</td>\n",
       "      <td>395.000000</td>\n",
       "      <td>395.000000</td>\n",
       "      <td>395.000000</td>\n",
       "      <td>395.000000</td>\n",
       "    </tr>\n",
       "    <tr>\n",
       "      <th>mean</th>\n",
       "      <td>16.696203</td>\n",
       "      <td>2.749367</td>\n",
       "      <td>2.521519</td>\n",
       "      <td>1.448101</td>\n",
       "      <td>2.035443</td>\n",
       "      <td>0.334177</td>\n",
       "      <td>3.944304</td>\n",
       "      <td>3.235443</td>\n",
       "      <td>3.108861</td>\n",
       "      <td>1.481013</td>\n",
       "      <td>2.291139</td>\n",
       "      <td>3.554430</td>\n",
       "      <td>5.708861</td>\n",
       "      <td>10.908861</td>\n",
       "      <td>10.713924</td>\n",
       "      <td>10.415190</td>\n",
       "    </tr>\n",
       "    <tr>\n",
       "      <th>std</th>\n",
       "      <td>1.276043</td>\n",
       "      <td>1.094735</td>\n",
       "      <td>1.088201</td>\n",
       "      <td>0.697505</td>\n",
       "      <td>0.839240</td>\n",
       "      <td>0.743651</td>\n",
       "      <td>0.896659</td>\n",
       "      <td>0.998862</td>\n",
       "      <td>1.113278</td>\n",
       "      <td>0.890741</td>\n",
       "      <td>1.287897</td>\n",
       "      <td>1.390303</td>\n",
       "      <td>8.003096</td>\n",
       "      <td>3.319195</td>\n",
       "      <td>3.761505</td>\n",
       "      <td>4.581443</td>\n",
       "    </tr>\n",
       "    <tr>\n",
       "      <th>min</th>\n",
       "      <td>15.000000</td>\n",
       "      <td>0.000000</td>\n",
       "      <td>0.000000</td>\n",
       "      <td>1.000000</td>\n",
       "      <td>1.000000</td>\n",
       "      <td>0.000000</td>\n",
       "      <td>1.000000</td>\n",
       "      <td>1.000000</td>\n",
       "      <td>1.000000</td>\n",
       "      <td>1.000000</td>\n",
       "      <td>1.000000</td>\n",
       "      <td>1.000000</td>\n",
       "      <td>0.000000</td>\n",
       "      <td>3.000000</td>\n",
       "      <td>0.000000</td>\n",
       "      <td>0.000000</td>\n",
       "    </tr>\n",
       "    <tr>\n",
       "      <th>25%</th>\n",
       "      <td>16.000000</td>\n",
       "      <td>2.000000</td>\n",
       "      <td>2.000000</td>\n",
       "      <td>1.000000</td>\n",
       "      <td>1.000000</td>\n",
       "      <td>0.000000</td>\n",
       "      <td>4.000000</td>\n",
       "      <td>3.000000</td>\n",
       "      <td>2.000000</td>\n",
       "      <td>1.000000</td>\n",
       "      <td>1.000000</td>\n",
       "      <td>3.000000</td>\n",
       "      <td>0.000000</td>\n",
       "      <td>8.000000</td>\n",
       "      <td>9.000000</td>\n",
       "      <td>8.000000</td>\n",
       "    </tr>\n",
       "    <tr>\n",
       "      <th>50%</th>\n",
       "      <td>17.000000</td>\n",
       "      <td>3.000000</td>\n",
       "      <td>2.000000</td>\n",
       "      <td>1.000000</td>\n",
       "      <td>2.000000</td>\n",
       "      <td>0.000000</td>\n",
       "      <td>4.000000</td>\n",
       "      <td>3.000000</td>\n",
       "      <td>3.000000</td>\n",
       "      <td>1.000000</td>\n",
       "      <td>2.000000</td>\n",
       "      <td>4.000000</td>\n",
       "      <td>4.000000</td>\n",
       "      <td>11.000000</td>\n",
       "      <td>11.000000</td>\n",
       "      <td>11.000000</td>\n",
       "    </tr>\n",
       "    <tr>\n",
       "      <th>75%</th>\n",
       "      <td>18.000000</td>\n",
       "      <td>4.000000</td>\n",
       "      <td>3.000000</td>\n",
       "      <td>2.000000</td>\n",
       "      <td>2.000000</td>\n",
       "      <td>0.000000</td>\n",
       "      <td>5.000000</td>\n",
       "      <td>4.000000</td>\n",
       "      <td>4.000000</td>\n",
       "      <td>2.000000</td>\n",
       "      <td>3.000000</td>\n",
       "      <td>5.000000</td>\n",
       "      <td>8.000000</td>\n",
       "      <td>13.000000</td>\n",
       "      <td>13.000000</td>\n",
       "      <td>14.000000</td>\n",
       "    </tr>\n",
       "    <tr>\n",
       "      <th>max</th>\n",
       "      <td>22.000000</td>\n",
       "      <td>4.000000</td>\n",
       "      <td>4.000000</td>\n",
       "      <td>4.000000</td>\n",
       "      <td>4.000000</td>\n",
       "      <td>3.000000</td>\n",
       "      <td>5.000000</td>\n",
       "      <td>5.000000</td>\n",
       "      <td>5.000000</td>\n",
       "      <td>5.000000</td>\n",
       "      <td>5.000000</td>\n",
       "      <td>5.000000</td>\n",
       "      <td>75.000000</td>\n",
       "      <td>19.000000</td>\n",
       "      <td>19.000000</td>\n",
       "      <td>20.000000</td>\n",
       "    </tr>\n",
       "  </tbody>\n",
       "</table>\n",
       "</div>"
      ],
      "text/plain": [
       "              age        Medu        Fedu  traveltime   studytime    failures  \\\n",
       "count  395.000000  395.000000  395.000000  395.000000  395.000000  395.000000   \n",
       "mean    16.696203    2.749367    2.521519    1.448101    2.035443    0.334177   \n",
       "std      1.276043    1.094735    1.088201    0.697505    0.839240    0.743651   \n",
       "min     15.000000    0.000000    0.000000    1.000000    1.000000    0.000000   \n",
       "25%     16.000000    2.000000    2.000000    1.000000    1.000000    0.000000   \n",
       "50%     17.000000    3.000000    2.000000    1.000000    2.000000    0.000000   \n",
       "75%     18.000000    4.000000    3.000000    2.000000    2.000000    0.000000   \n",
       "max     22.000000    4.000000    4.000000    4.000000    4.000000    3.000000   \n",
       "\n",
       "           famrel    freetime       goout        Dalc        Walc      health  \\\n",
       "count  395.000000  395.000000  395.000000  395.000000  395.000000  395.000000   \n",
       "mean     3.944304    3.235443    3.108861    1.481013    2.291139    3.554430   \n",
       "std      0.896659    0.998862    1.113278    0.890741    1.287897    1.390303   \n",
       "min      1.000000    1.000000    1.000000    1.000000    1.000000    1.000000   \n",
       "25%      4.000000    3.000000    2.000000    1.000000    1.000000    3.000000   \n",
       "50%      4.000000    3.000000    3.000000    1.000000    2.000000    4.000000   \n",
       "75%      5.000000    4.000000    4.000000    2.000000    3.000000    5.000000   \n",
       "max      5.000000    5.000000    5.000000    5.000000    5.000000    5.000000   \n",
       "\n",
       "         absences          G1          G2          G3  \n",
       "count  395.000000  395.000000  395.000000  395.000000  \n",
       "mean     5.708861   10.908861   10.713924   10.415190  \n",
       "std      8.003096    3.319195    3.761505    4.581443  \n",
       "min      0.000000    3.000000    0.000000    0.000000  \n",
       "25%      0.000000    8.000000    9.000000    8.000000  \n",
       "50%      4.000000   11.000000   11.000000   11.000000  \n",
       "75%      8.000000   13.000000   13.000000   14.000000  \n",
       "max     75.000000   19.000000   19.000000   20.000000  "
      ]
     },
     "execution_count": 33,
     "metadata": {},
     "output_type": "execute_result"
    }
   ],
   "source": [
    "data.describe()"
   ]
  },
  {
   "cell_type": "markdown",
   "metadata": {},
   "source": [
    "## Предварительный анализ данных"
   ]
  },
  {
   "cell_type": "markdown",
   "metadata": {
    "ExecuteTime": {
     "end_time": "2020-12-21T11:44:54.556497Z",
     "start_time": "2020-12-21T11:44:54.550086Z"
    }
   },
   "source": [
    "### Гистрограмма для итоговых оценок"
   ]
  },
  {
   "cell_type": "code",
   "execution_count": 178,
   "metadata": {
    "ExecuteTime": {
     "end_time": "2020-12-23T15:42:51.984556Z",
     "start_time": "2020-12-23T15:42:51.801303Z"
    }
   },
   "outputs": [
    {
     "data": {
      "image/png": "[encoded data removed]",
      "text/plain": [
       "<Figure size 432x288 with 1 Axes>"
      ]
     },
     "metadata": {
      "needs_background": "light"
     },
     "output_type": "display_data"
    }
   ],
   "source": [
    "plt.hist(data['G3'], bins=20,edgecolor = 'k', range=[0,20])\n",
    "plt.xlabel('Оценка'); plt.ylabel('Количество'); plt.title('Итоговые оценки');"
   ]
  },
  {
   "cell_type": "markdown",
   "metadata": {},
   "source": [
    "За исключением большого числа студентов, получивших 0 баллов, распределение нормальное. Возможно 0 использовался для тех, кто не пришел на экзамен или вместо отсутсвия данных. Нужно проверить есть ли пропущенные переменные."
   ]
  },
  {
   "cell_type": "code",
   "execution_count": 179,
   "metadata": {
    "ExecuteTime": {
     "end_time": "2020-12-23T15:42:51.992805Z",
     "start_time": "2020-12-23T15:42:51.985823Z"
    }
   },
   "outputs": [],
   "source": [
    "def missing_values_table(df):\n",
    "        # Total missing values\n",
    "        mis_val = df.isnull().sum()\n",
    "        \n",
    "        # Percentage of missing values\n",
    "        mis_val_percent = 100 * df.isnull().sum() / len(df)\n",
    "        \n",
    "        # Make a table with the results\n",
    "        mis_val_table = pd.concat([mis_val, mis_val_percent], axis=1)\n",
    "        \n",
    "        # Rename the columns\n",
    "        mis_val_table_ren_columns = mis_val_table.rename(\n",
    "        columns = {0 : 'Missing Values', 1 : '% of Total Values'})\n",
    "        \n",
    "        # Sort the table by percentage of missing descending\n",
    "        mis_val_table_ren_columns = mis_val_table_ren_columns[\n",
    "            mis_val_table_ren_columns.iloc[:,1] != 0].sort_values(\n",
    "        '% of Total Values', ascending=False).round(1)\n",
    "        \n",
    "        # Print some summary information\n",
    "        print (\"Your selected dataframe has \" + str(df.shape[1]) + \" columns.\\n\"      \n",
    "            \"There are \" + str(mis_val_table_ren_columns.shape[0]) +\n",
    "              \" columns that have missing values.\")\n",
    "        \n",
    "        # Return the dataframe with missing information\n",
    "        return mis_val_table_ren_columns"
   ]
  },
  {
   "cell_type": "code",
   "execution_count": 180,
   "metadata": {
    "ExecuteTime": {
     "end_time": "2020-12-23T15:42:52.009797Z",
     "start_time": "2020-12-23T15:42:51.994863Z"
    }
   },
   "outputs": [
    {
     "name": "stdout",
     "output_type": "stream",
     "text": [
      "Your selected dataframe has 33 columns.\n",
      "There are 0 columns that have missing values.\n"
     ]
    },
    {
     "data": {
      "text/html": [
       "<div>\n",
       "<style scoped>\n",
       "    .dataframe tbody tr th:only-of-type {\n",
       "        vertical-align: middle;\n",
       "    }\n",
       "\n",
       "    .dataframe tbody tr th {\n",
       "        vertical-align: top;\n",
       "    }\n",
       "\n",
       "    .dataframe thead th {\n",
       "        text-align: right;\n",
       "    }\n",
       "</style>\n",
       "<table border=\"1\" class=\"dataframe\">\n",
       "  <thead>\n",
       "    <tr style=\"text-align: right;\">\n",
       "      <th></th>\n",
       "      <th>Missing Values</th>\n",
       "      <th>% of Total Values</th>\n",
       "    </tr>\n",
       "  </thead>\n",
       "  <tbody>\n",
       "  </tbody>\n",
       "</table>\n",
       "</div>"
      ],
      "text/plain": [
       "Empty DataFrame\n",
       "Columns: [Missing Values, % of Total Values]\n",
       "Index: []"
      ]
     },
     "execution_count": 180,
     "metadata": {},
     "output_type": "execute_result"
    }
   ],
   "source": [
    "missing_values_table(data)"
   ]
  },
  {
   "cell_type": "code",
   "execution_count": 37,
   "metadata": {
    "ExecuteTime": {
     "end_time": "2020-12-23T15:42:52.166192Z",
     "start_time": "2020-12-23T15:42:52.010758Z"
    }
   },
   "outputs": [
    {
     "data": {
      "image/png": "[encoded data removed]",
      "text/plain": [
       "<Figure size 432x288 with 1 Axes>"
      ]
     },
     "metadata": {
      "needs_background": "light"
     },
     "output_type": "display_data"
    }
   ],
   "source": [
    "sns.kdeplot(data.loc[data['sex'] == 'F', 'G3'], label='Женский', shade = True)\n",
    "sns.kdeplot(data.loc[data['sex'] == 'M', 'G3'], label='Мужской', shade = True)\n",
    "plt.title('Влияет ли пол на оценку?', fontsize = 20)\n",
    "plt.xlabel('Оценка', fontsize = 20);\n",
    "plt.ylabel('Пол', fontsize = 20)\n",
    "plt.show()"
   ]
  },
  {
   "cell_type": "markdown",
   "metadata": {},
   "source": [
    "Граф показывает, что нет сильных различий между оценками девушек и парней."
   ]
  },
  {
   "cell_type": "code",
   "execution_count": 38,
   "metadata": {
    "ExecuteTime": {
     "end_time": "2020-12-23T15:42:52.320102Z",
     "start_time": "2020-12-23T15:42:52.167861Z"
    }
   },
   "outputs": [
    {
     "data": {
      "image/png": "[encoded data removed]",
      "text/plain": [
       "<Figure size 432x288 with 1 Axes>"
      ]
     },
     "metadata": {
      "needs_background": "light"
     },
     "output_type": "display_data"
    }
   ],
   "source": [
    "sns.kdeplot(data.loc[data['school'] == 'GP', 'G3'], label='Gabriel Pereira', shade = True)\n",
    "sns.kdeplot(data.loc[data['school'] == 'MS', 'G3'], label='Mousinho', shade = True)\n",
    "plt.title('Влияет ли школа на оценку?', fontsize = 20)\n",
    "plt.xlabel('Оценка', fontsize = 20);\n",
    "plt.ylabel('Школа', fontsize = 20)\n",
    "plt.show()"
   ]
  },
  {
   "cell_type": "markdown",
   "metadata": {
    "ExecuteTime": {
     "end_time": "2020-12-23T10:26:27.022770Z",
     "start_time": "2020-12-23T10:26:27.015860Z"
    }
   },
   "source": [
    "Школа тоже особо не влияет на оценку"
   ]
  },
  {
   "cell_type": "code",
   "execution_count": 39,
   "metadata": {
    "ExecuteTime": {
     "end_time": "2020-12-23T15:42:52.488214Z",
     "start_time": "2020-12-23T15:42:52.321818Z"
    }
   },
   "outputs": [
    {
     "data": {
      "image/png": "[encoded data removed]",
      "text/plain": [
       "<Figure size 432x288 with 1 Axes>"
      ]
     },
     "metadata": {
      "needs_background": "light"
     },
     "output_type": "display_data"
    }
   ],
   "source": [
    "sns.kdeplot(data.loc[data['schoolsup'] == 'no', 'G3'], label='нет', shade = True)\n",
    "sns.kdeplot(data.loc[data['schoolsup'] == 'yes', 'G3'], label='да', shade = True)\n",
    "plt.title('Влияет ли дополнительная образовательная поддержка на оценку?', fontsize = 20)\n",
    "plt.xlabel('Оценка', fontsize = 20);\n",
    "plt.ylabel('Школа', fontsize = 20)\n",
    "plt.show()"
   ]
  },
  {
   "cell_type": "code",
   "execution_count": 40,
   "metadata": {
    "ExecuteTime": {
     "end_time": "2020-12-23T15:42:52.646057Z",
     "start_time": "2020-12-23T15:42:52.489478Z"
    }
   },
   "outputs": [
    {
     "data": {
      "image/png": "[encoded data removed]",
      "text/plain": [
       "<Figure size 432x288 with 1 Axes>"
      ]
     },
     "metadata": {
      "needs_background": "light"
     },
     "output_type": "display_data"
    }
   ],
   "source": [
    "sns.kdeplot(data.loc[data['paid'] == 'no', 'G3'], label='нет', shade = True)\n",
    "sns.kdeplot(data.loc[data['paid'] == 'yes', 'G3'], label='да', shade = True)\n",
    "plt.title('Влияет ли дополнительные платные занятия на оценку?', fontsize = 20)\n",
    "plt.xlabel('Оценка', fontsize = 20);\n",
    "plt.ylabel('Доп. занятия', fontsize = 20)\n",
    "plt.show()"
   ]
  },
  {
   "cell_type": "code",
   "execution_count": 41,
   "metadata": {
    "ExecuteTime": {
     "end_time": "2020-12-23T15:42:52.806628Z",
     "start_time": "2020-12-23T15:42:52.648115Z"
    }
   },
   "outputs": [
    {
     "data": {
      "image/png": "[encoded data removed]",
      "text/plain": [
       "<Figure size 432x288 with 1 Axes>"
      ]
     },
     "metadata": {
      "needs_background": "light"
     },
     "output_type": "display_data"
    }
   ],
   "source": [
    "sns.kdeplot(data.loc[data['famsize'] == 'GT3', 'G3'], label='больше 3 человек', shade = True)\n",
    "sns.kdeplot(data.loc[data['famsize'] == 'LE3', 'G3'], label='меньше или равно 3', shade = True)\n",
    "plt.title('Влияет ли размер семьи на оценку?', fontsize = 20)\n",
    "plt.xlabel('Оценка', fontsize = 20);\n",
    "plt.ylabel('Размер семьи', fontsize = 20)\n",
    "plt.show()"
   ]
  },
  {
   "cell_type": "code",
   "execution_count": 42,
   "metadata": {
    "ExecuteTime": {
     "end_time": "2020-12-23T15:42:52.965238Z",
     "start_time": "2020-12-23T15:42:52.807663Z"
    }
   },
   "outputs": [
    {
     "data": {
      "image/png": "[encoded data removed]",
      "text/plain": [
       "<Figure size 432x288 with 1 Axes>"
      ]
     },
     "metadata": {
      "needs_background": "light"
     },
     "output_type": "display_data"
    }
   ],
   "source": [
    "sns.kdeplot(data.loc[data['Pstatus'] == 'T', 'G3'], label='вместе', shade = True)\n",
    "sns.kdeplot(data.loc[data['Pstatus'] == 'A', 'G3'], label='раздельно', shade = True)\n",
    "plt.title('Влияет ли вместе ли родители на оценку?', fontsize = 20)\n",
    "plt.xlabel('Оценка', fontsize = 20);\n",
    "plt.ylabel('Родители', fontsize = 20)\n",
    "plt.show()"
   ]
  },
  {
   "cell_type": "code",
   "execution_count": 181,
   "metadata": {
    "ExecuteTime": {
     "end_time": "2020-12-23T15:42:53.162704Z",
     "start_time": "2020-12-23T15:42:52.966202Z"
    }
   },
   "outputs": [
    {
     "data": {
      "image/png": "[encoded data removed]",
      "text/plain": [
       "<Figure size 432x288 with 1 Axes>"
      ]
     },
     "metadata": {
      "needs_background": "light"
     },
     "output_type": "display_data"
    }
   ],
   "source": [
    "sns.kdeplot(data.loc[data['Mjob'] == 'teacher','G3'], label='преподавательская деятльность', shade = True)\n",
    "sns.kdeplot(data.loc[data['Mjob'] == 'health','G3'], label='область здравоохранения', shade = True)\n",
    "sns.kdeplot(data.loc[data['Mjob'] == 'services','G3'], label='сервисная работа', shade = True)\n",
    "sns.kdeplot(data.loc[data['Mjob'] == 'at_home','G3'], label='дома', shade = True)\n",
    "plt.title('Влияет ли работы мамы на оценку?', fontsize = 20)\n",
    "plt.xlabel('Оценка', fontsize = 20);\n",
    "plt.ylabel('Работа мамы', fontsize = 20)\n",
    "plt.show()"
   ]
  },
  {
   "cell_type": "code",
   "execution_count": 183,
   "metadata": {
    "ExecuteTime": {
     "end_time": "2020-12-23T15:42:53.357158Z",
     "start_time": "2020-12-23T15:42:53.163694Z"
    }
   },
   "outputs": [
    {
     "data": {
      "image/png": "[encoded data removed]",
      "text/plain": [
       "<Figure size 432x288 with 1 Axes>"
      ]
     },
     "metadata": {
      "needs_background": "light"
     },
     "output_type": "display_data"
    }
   ],
   "source": [
    "sns.kdeplot(data.loc[data['Fjob'] == 'teacher','G3'], label='преподавательская деятльность', shade = True)\n",
    "sns.kdeplot(data.loc[data['Fjob'] == 'health','G3'], label='область здравоохранения', shade = True)\n",
    "sns.kdeplot(data.loc[data['Fjob'] == 'services','G3'], label='сервисная работа', shade = True)\n",
    "sns.kdeplot(data.loc[data['Fjob'] == 'at_home','G3'], label='дома', shade = True)\n",
    "plt.title('Влияет работа отца на оценку?', fontsize = 20)\n",
    "plt.xlabel('Оценка', fontsize = 20);\n",
    "plt.ylabel('Работа отца', fontsize = 20)\n",
    "plt.show()"
   ]
  },
  {
   "cell_type": "markdown",
   "metadata": {
    "ExecuteTime": {
     "end_time": "2020-12-21T13:01:47.320229Z",
     "start_time": "2020-12-21T13:01:46.845533Z"
    }
   },
   "source": [
    "### Корреляционная матрица"
   ]
  },
  {
   "cell_type": "code",
   "execution_count": 45,
   "metadata": {
    "ExecuteTime": {
     "end_time": "2020-12-23T15:42:53.378101Z",
     "start_time": "2020-12-23T15:42:53.358153Z"
    }
   },
   "outputs": [
    {
     "data": {
      "text/html": [
       "<div>\n",
       "<style scoped>\n",
       "    .dataframe tbody tr th:only-of-type {\n",
       "        vertical-align: middle;\n",
       "    }\n",
       "\n",
       "    .dataframe tbody tr th {\n",
       "        vertical-align: top;\n",
       "    }\n",
       "\n",
       "    .dataframe thead th {\n",
       "        text-align: right;\n",
       "    }\n",
       "</style>\n",
       "<table border=\"1\" class=\"dataframe\">\n",
       "  <thead>\n",
       "    <tr style=\"text-align: right;\">\n",
       "      <th></th>\n",
       "      <th>age</th>\n",
       "      <th>Medu</th>\n",
       "      <th>Fedu</th>\n",
       "      <th>traveltime</th>\n",
       "      <th>studytime</th>\n",
       "      <th>failures</th>\n",
       "      <th>goout</th>\n",
       "      <th>Dalc</th>\n",
       "      <th>Walc</th>\n",
       "      <th>health</th>\n",
       "      <th>absences</th>\n",
       "      <th>G1</th>\n",
       "      <th>G2</th>\n",
       "      <th>G3</th>\n",
       "    </tr>\n",
       "  </thead>\n",
       "  <tbody>\n",
       "    <tr>\n",
       "      <th>age</th>\n",
       "      <td>1.000000</td>\n",
       "      <td>-0.163658</td>\n",
       "      <td>-0.163438</td>\n",
       "      <td>0.070641</td>\n",
       "      <td>-0.004140</td>\n",
       "      <td>0.243665</td>\n",
       "      <td>0.126964</td>\n",
       "      <td>0.131125</td>\n",
       "      <td>0.117276</td>\n",
       "      <td>-0.062187</td>\n",
       "      <td>0.175230</td>\n",
       "      <td>-0.064081</td>\n",
       "      <td>-0.143474</td>\n",
       "      <td>-0.161579</td>\n",
       "    </tr>\n",
       "    <tr>\n",
       "      <th>Medu</th>\n",
       "      <td>-0.163658</td>\n",
       "      <td>1.000000</td>\n",
       "      <td>0.623455</td>\n",
       "      <td>-0.171639</td>\n",
       "      <td>0.064944</td>\n",
       "      <td>-0.236680</td>\n",
       "      <td>0.064094</td>\n",
       "      <td>0.019834</td>\n",
       "      <td>-0.047123</td>\n",
       "      <td>-0.046878</td>\n",
       "      <td>0.100285</td>\n",
       "      <td>0.205341</td>\n",
       "      <td>0.215527</td>\n",
       "      <td>0.217147</td>\n",
       "    </tr>\n",
       "    <tr>\n",
       "      <th>Fedu</th>\n",
       "      <td>-0.163438</td>\n",
       "      <td>0.623455</td>\n",
       "      <td>1.000000</td>\n",
       "      <td>-0.158194</td>\n",
       "      <td>-0.009175</td>\n",
       "      <td>-0.250408</td>\n",
       "      <td>0.043105</td>\n",
       "      <td>0.002386</td>\n",
       "      <td>-0.012631</td>\n",
       "      <td>0.014742</td>\n",
       "      <td>0.024473</td>\n",
       "      <td>0.190270</td>\n",
       "      <td>0.164893</td>\n",
       "      <td>0.152457</td>\n",
       "    </tr>\n",
       "    <tr>\n",
       "      <th>traveltime</th>\n",
       "      <td>0.070641</td>\n",
       "      <td>-0.171639</td>\n",
       "      <td>-0.158194</td>\n",
       "      <td>1.000000</td>\n",
       "      <td>-0.100909</td>\n",
       "      <td>0.092239</td>\n",
       "      <td>0.028540</td>\n",
       "      <td>0.138325</td>\n",
       "      <td>0.134116</td>\n",
       "      <td>0.007501</td>\n",
       "      <td>-0.012944</td>\n",
       "      <td>-0.093040</td>\n",
       "      <td>-0.153198</td>\n",
       "      <td>-0.117142</td>\n",
       "    </tr>\n",
       "    <tr>\n",
       "      <th>studytime</th>\n",
       "      <td>-0.004140</td>\n",
       "      <td>0.064944</td>\n",
       "      <td>-0.009175</td>\n",
       "      <td>-0.100909</td>\n",
       "      <td>1.000000</td>\n",
       "      <td>-0.173563</td>\n",
       "      <td>-0.063904</td>\n",
       "      <td>-0.196019</td>\n",
       "      <td>-0.253785</td>\n",
       "      <td>-0.075616</td>\n",
       "      <td>-0.062700</td>\n",
       "      <td>0.160612</td>\n",
       "      <td>0.135880</td>\n",
       "      <td>0.097820</td>\n",
       "    </tr>\n",
       "    <tr>\n",
       "      <th>failures</th>\n",
       "      <td>0.243665</td>\n",
       "      <td>-0.236680</td>\n",
       "      <td>-0.250408</td>\n",
       "      <td>0.092239</td>\n",
       "      <td>-0.173563</td>\n",
       "      <td>1.000000</td>\n",
       "      <td>0.124561</td>\n",
       "      <td>0.136047</td>\n",
       "      <td>0.141962</td>\n",
       "      <td>0.065827</td>\n",
       "      <td>0.063726</td>\n",
       "      <td>-0.354718</td>\n",
       "      <td>-0.355896</td>\n",
       "      <td>-0.360415</td>\n",
       "    </tr>\n",
       "    <tr>\n",
       "      <th>goout</th>\n",
       "      <td>0.126964</td>\n",
       "      <td>0.064094</td>\n",
       "      <td>0.043105</td>\n",
       "      <td>0.028540</td>\n",
       "      <td>-0.063904</td>\n",
       "      <td>0.124561</td>\n",
       "      <td>1.000000</td>\n",
       "      <td>0.266994</td>\n",
       "      <td>0.420386</td>\n",
       "      <td>-0.009577</td>\n",
       "      <td>0.044302</td>\n",
       "      <td>-0.149104</td>\n",
       "      <td>-0.162250</td>\n",
       "      <td>-0.132791</td>\n",
       "    </tr>\n",
       "    <tr>\n",
       "      <th>Dalc</th>\n",
       "      <td>0.131125</td>\n",
       "      <td>0.019834</td>\n",
       "      <td>0.002386</td>\n",
       "      <td>0.138325</td>\n",
       "      <td>-0.196019</td>\n",
       "      <td>0.136047</td>\n",
       "      <td>0.266994</td>\n",
       "      <td>1.000000</td>\n",
       "      <td>0.647544</td>\n",
       "      <td>0.077180</td>\n",
       "      <td>0.111908</td>\n",
       "      <td>-0.094159</td>\n",
       "      <td>-0.064120</td>\n",
       "      <td>-0.054660</td>\n",
       "    </tr>\n",
       "    <tr>\n",
       "      <th>Walc</th>\n",
       "      <td>0.117276</td>\n",
       "      <td>-0.047123</td>\n",
       "      <td>-0.012631</td>\n",
       "      <td>0.134116</td>\n",
       "      <td>-0.253785</td>\n",
       "      <td>0.141962</td>\n",
       "      <td>0.420386</td>\n",
       "      <td>0.647544</td>\n",
       "      <td>1.000000</td>\n",
       "      <td>0.092476</td>\n",
       "      <td>0.136291</td>\n",
       "      <td>-0.126179</td>\n",
       "      <td>-0.084927</td>\n",
       "      <td>-0.051939</td>\n",
       "    </tr>\n",
       "    <tr>\n",
       "      <th>health</th>\n",
       "      <td>-0.062187</td>\n",
       "      <td>-0.046878</td>\n",
       "      <td>0.014742</td>\n",
       "      <td>0.007501</td>\n",
       "      <td>-0.075616</td>\n",
       "      <td>0.065827</td>\n",
       "      <td>-0.009577</td>\n",
       "      <td>0.077180</td>\n",
       "      <td>0.092476</td>\n",
       "      <td>1.000000</td>\n",
       "      <td>-0.029937</td>\n",
       "      <td>-0.073172</td>\n",
       "      <td>-0.097720</td>\n",
       "      <td>-0.061335</td>\n",
       "    </tr>\n",
       "    <tr>\n",
       "      <th>absences</th>\n",
       "      <td>0.175230</td>\n",
       "      <td>0.100285</td>\n",
       "      <td>0.024473</td>\n",
       "      <td>-0.012944</td>\n",
       "      <td>-0.062700</td>\n",
       "      <td>0.063726</td>\n",
       "      <td>0.044302</td>\n",
       "      <td>0.111908</td>\n",
       "      <td>0.136291</td>\n",
       "      <td>-0.029937</td>\n",
       "      <td>1.000000</td>\n",
       "      <td>-0.031003</td>\n",
       "      <td>-0.031777</td>\n",
       "      <td>0.034247</td>\n",
       "    </tr>\n",
       "    <tr>\n",
       "      <th>G1</th>\n",
       "      <td>-0.064081</td>\n",
       "      <td>0.205341</td>\n",
       "      <td>0.190270</td>\n",
       "      <td>-0.093040</td>\n",
       "      <td>0.160612</td>\n",
       "      <td>-0.354718</td>\n",
       "      <td>-0.149104</td>\n",
       "      <td>-0.094159</td>\n",
       "      <td>-0.126179</td>\n",
       "      <td>-0.073172</td>\n",
       "      <td>-0.031003</td>\n",
       "      <td>1.000000</td>\n",
       "      <td>0.852118</td>\n",
       "      <td>0.801468</td>\n",
       "    </tr>\n",
       "    <tr>\n",
       "      <th>G2</th>\n",
       "      <td>-0.143474</td>\n",
       "      <td>0.215527</td>\n",
       "      <td>0.164893</td>\n",
       "      <td>-0.153198</td>\n",
       "      <td>0.135880</td>\n",
       "      <td>-0.355896</td>\n",
       "      <td>-0.162250</td>\n",
       "      <td>-0.064120</td>\n",
       "      <td>-0.084927</td>\n",
       "      <td>-0.097720</td>\n",
       "      <td>-0.031777</td>\n",
       "      <td>0.852118</td>\n",
       "      <td>1.000000</td>\n",
       "      <td>0.904868</td>\n",
       "    </tr>\n",
       "    <tr>\n",
       "      <th>G3</th>\n",
       "      <td>-0.161579</td>\n",
       "      <td>0.217147</td>\n",
       "      <td>0.152457</td>\n",
       "      <td>-0.117142</td>\n",
       "      <td>0.097820</td>\n",
       "      <td>-0.360415</td>\n",
       "      <td>-0.132791</td>\n",
       "      <td>-0.054660</td>\n",
       "      <td>-0.051939</td>\n",
       "      <td>-0.061335</td>\n",
       "      <td>0.034247</td>\n",
       "      <td>0.801468</td>\n",
       "      <td>0.904868</td>\n",
       "      <td>1.000000</td>\n",
       "    </tr>\n",
       "  </tbody>\n",
       "</table>\n",
       "</div>"
      ],
      "text/plain": [
       "                 age      Medu      Fedu  traveltime  studytime  failures  \\\n",
       "age         1.000000 -0.163658 -0.163438    0.070641  -0.004140  0.243665   \n",
       "Medu       -0.163658  1.000000  0.623455   -0.171639   0.064944 -0.236680   \n",
       "Fedu       -0.163438  0.623455  1.000000   -0.158194  -0.009175 -0.250408   \n",
       "traveltime  0.070641 -0.171639 -0.158194    1.000000  -0.100909  0.092239   \n",
       "studytime  -0.004140  0.064944 -0.009175   -0.100909   1.000000 -0.173563   \n",
       "failures    0.243665 -0.236680 -0.250408    0.092239  -0.173563  1.000000   \n",
       "goout       0.126964  0.064094  0.043105    0.028540  -0.063904  0.124561   \n",
       "Dalc        0.131125  0.019834  0.002386    0.138325  -0.196019  0.136047   \n",
       "Walc        0.117276 -0.047123 -0.012631    0.134116  -0.253785  0.141962   \n",
       "health     -0.062187 -0.046878  0.014742    0.007501  -0.075616  0.065827   \n",
       "absences    0.175230  0.100285  0.024473   -0.012944  -0.062700  0.063726   \n",
       "G1         -0.064081  0.205341  0.190270   -0.093040   0.160612 -0.354718   \n",
       "G2         -0.143474  0.215527  0.164893   -0.153198   0.135880 -0.355896   \n",
       "G3         -0.161579  0.217147  0.152457   -0.117142   0.097820 -0.360415   \n",
       "\n",
       "               goout      Dalc      Walc    health  absences        G1  \\\n",
       "age         0.126964  0.131125  0.117276 -0.062187  0.175230 -0.064081   \n",
       "Medu        0.064094  0.019834 -0.047123 -0.046878  0.100285  0.205341   \n",
       "Fedu        0.043105  0.002386 -0.012631  0.014742  0.024473  0.190270   \n",
       "traveltime  0.028540  0.138325  0.134116  0.007501 -0.012944 -0.093040   \n",
       "studytime  -0.063904 -0.196019 -0.253785 -0.075616 -0.062700  0.160612   \n",
       "failures    0.124561  0.136047  0.141962  0.065827  0.063726 -0.354718   \n",
       "goout       1.000000  0.266994  0.420386 -0.009577  0.044302 -0.149104   \n",
       "Dalc        0.266994  1.000000  0.647544  0.077180  0.111908 -0.094159   \n",
       "Walc        0.420386  0.647544  1.000000  0.092476  0.136291 -0.126179   \n",
       "health     -0.009577  0.077180  0.092476  1.000000 -0.029937 -0.073172   \n",
       "absences    0.044302  0.111908  0.136291 -0.029937  1.000000 -0.031003   \n",
       "G1         -0.149104 -0.094159 -0.126179 -0.073172 -0.031003  1.000000   \n",
       "G2         -0.162250 -0.064120 -0.084927 -0.097720 -0.031777  0.852118   \n",
       "G3         -0.132791 -0.054660 -0.051939 -0.061335  0.034247  0.801468   \n",
       "\n",
       "                  G2        G3  \n",
       "age        -0.143474 -0.161579  \n",
       "Medu        0.215527  0.217147  \n",
       "Fedu        0.164893  0.152457  \n",
       "traveltime -0.153198 -0.117142  \n",
       "studytime   0.135880  0.097820  \n",
       "failures   -0.355896 -0.360415  \n",
       "goout      -0.162250 -0.132791  \n",
       "Dalc       -0.064120 -0.054660  \n",
       "Walc       -0.084927 -0.051939  \n",
       "health     -0.097720 -0.061335  \n",
       "absences   -0.031777  0.034247  \n",
       "G1          0.852118  0.801468  \n",
       "G2          1.000000  0.904868  \n",
       "G3          0.904868  1.000000  "
      ]
     },
     "execution_count": 45,
     "metadata": {},
     "output_type": "execute_result"
    }
   ],
   "source": [
    "data_num = data[['age','Medu', 'Fedu', 'traveltime', 'studytime', 'failures', 'goout','Dalc', 'Walc', 'health', 'absences', \"G1\",\"G2\", \"G3\"]]\n",
    "data_num.corr()"
   ]
  },
  {
   "cell_type": "markdown",
   "metadata": {},
   "source": [
    "Представим корреляционную матрицу графически."
   ]
  },
  {
   "cell_type": "code",
   "execution_count": 46,
   "metadata": {
    "ExecuteTime": {
     "end_time": "2020-12-23T15:42:53.615665Z",
     "start_time": "2020-12-23T15:42:53.379146Z"
    }
   },
   "outputs": [
    {
     "data": {
      "text/plain": [
       "<AxesSubplot:>"
      ]
     },
     "execution_count": 46,
     "metadata": {},
     "output_type": "execute_result"
    },
    {
     "data": {
      "image/png": "[encoded data removed]",
      "text/plain": [
       "<Figure size 432x288 with 2 Axes>"
      ]
     },
     "metadata": {
      "needs_background": "light"
     },
     "output_type": "display_data"
    }
   ],
   "source": [
    "sns.heatmap(data_num.corr())"
   ]
  },
  {
   "cell_type": "markdown",
   "metadata": {},
   "source": [
    "Видно, что наибольшую корреляцию итоговая оценка, помимо оценок за 1 и 2 периоды,имеет с образованием родителей и временем, потраченным на учебу, возрастом, временем на путешествия, уровень здоровья и тд. Для регрессии будем использовать данные, которые наиболее сильно коррелируют с G3"
   ]
  },
  {
   "cell_type": "code",
   "execution_count": 47,
   "metadata": {
    "ExecuteTime": {
     "end_time": "2020-12-23T15:42:53.623645Z",
     "start_time": "2020-12-23T15:42:53.616935Z"
    }
   },
   "outputs": [],
   "source": [
    "data_2 = data[[\"G1\", \"G2\",\"G3\",\"studytime\", \"Medu\", \"Fedu\", \"famrel\", \"absences\", \"age\",\"traveltime\",\"goout\",\"Dalc\",\"Walc\", \"health\"]]\n",
    "data_obj = data[[\"Mjob\", \"Fjob\", \"paid\", \"schoolsup\"]]\n",
    "predict = \"G3\""
   ]
  },
  {
   "cell_type": "code",
   "execution_count": 134,
   "metadata": {
    "ExecuteTime": {
     "end_time": "2020-12-23T15:42:53.658601Z",
     "start_time": "2020-12-23T15:42:53.624641Z"
    }
   },
   "outputs": [
    {
     "data": {
      "text/html": [
       "<div>\n",
       "<style scoped>\n",
       "    .dataframe tbody tr th:only-of-type {\n",
       "        vertical-align: middle;\n",
       "    }\n",
       "\n",
       "    .dataframe tbody tr th {\n",
       "        vertical-align: top;\n",
       "    }\n",
       "\n",
       "    .dataframe thead th {\n",
       "        text-align: right;\n",
       "    }\n",
       "</style>\n",
       "<table border=\"1\" class=\"dataframe\">\n",
       "  <thead>\n",
       "    <tr style=\"text-align: right;\">\n",
       "      <th></th>\n",
       "      <th>G1</th>\n",
       "      <th>G2</th>\n",
       "      <th>G3</th>\n",
       "      <th>studytime</th>\n",
       "      <th>Medu</th>\n",
       "      <th>Fedu</th>\n",
       "      <th>famrel</th>\n",
       "      <th>absences</th>\n",
       "      <th>age</th>\n",
       "      <th>traveltime</th>\n",
       "      <th>...</th>\n",
       "      <th>Mjob_teacher</th>\n",
       "      <th>Fjob_at_home</th>\n",
       "      <th>Fjob_health</th>\n",
       "      <th>Fjob_other</th>\n",
       "      <th>Fjob_services</th>\n",
       "      <th>Fjob_teacher</th>\n",
       "      <th>paid_no</th>\n",
       "      <th>paid_yes</th>\n",
       "      <th>schoolsup_no</th>\n",
       "      <th>schoolsup_yes</th>\n",
       "    </tr>\n",
       "  </thead>\n",
       "  <tbody>\n",
       "    <tr>\n",
       "      <th>0</th>\n",
       "      <td>-1.782467</td>\n",
       "      <td>-1.254791</td>\n",
       "      <td>-0.964934</td>\n",
       "      <td>-0.042286</td>\n",
       "      <td>1.143856</td>\n",
       "      <td>1.360371</td>\n",
       "      <td>0.062194</td>\n",
       "      <td>0.036424</td>\n",
       "      <td>1.023046</td>\n",
       "      <td>0.792251</td>\n",
       "      <td>...</td>\n",
       "      <td>-0.414858</td>\n",
       "      <td>-0.230940</td>\n",
       "      <td>-0.218507</td>\n",
       "      <td>-1.104129</td>\n",
       "      <td>-0.625176</td>\n",
       "      <td>3.552561</td>\n",
       "      <td>0.919671</td>\n",
       "      <td>-0.919671</td>\n",
       "      <td>-2.597133</td>\n",
       "      <td>2.597133</td>\n",
       "    </tr>\n",
       "    <tr>\n",
       "      <th>1</th>\n",
       "      <td>-1.782467</td>\n",
       "      <td>-1.520979</td>\n",
       "      <td>-0.964934</td>\n",
       "      <td>-0.042286</td>\n",
       "      <td>-1.600009</td>\n",
       "      <td>-1.399970</td>\n",
       "      <td>1.178860</td>\n",
       "      <td>-0.213796</td>\n",
       "      <td>0.238380</td>\n",
       "      <td>-0.643249</td>\n",
       "      <td>...</td>\n",
       "      <td>-0.414858</td>\n",
       "      <td>-0.230940</td>\n",
       "      <td>-0.218507</td>\n",
       "      <td>0.905691</td>\n",
       "      <td>-0.625176</td>\n",
       "      <td>-0.281487</td>\n",
       "      <td>0.919671</td>\n",
       "      <td>-0.919671</td>\n",
       "      <td>0.385040</td>\n",
       "      <td>-0.385040</td>\n",
       "    </tr>\n",
       "    <tr>\n",
       "      <th>2</th>\n",
       "      <td>-1.179147</td>\n",
       "      <td>-0.722415</td>\n",
       "      <td>-0.090739</td>\n",
       "      <td>-0.042286</td>\n",
       "      <td>-1.600009</td>\n",
       "      <td>-1.399970</td>\n",
       "      <td>0.062194</td>\n",
       "      <td>0.536865</td>\n",
       "      <td>-1.330954</td>\n",
       "      <td>-0.643249</td>\n",
       "      <td>...</td>\n",
       "      <td>-0.414858</td>\n",
       "      <td>-0.230940</td>\n",
       "      <td>-0.218507</td>\n",
       "      <td>0.905691</td>\n",
       "      <td>-0.625176</td>\n",
       "      <td>-0.281487</td>\n",
       "      <td>-1.087346</td>\n",
       "      <td>1.087346</td>\n",
       "      <td>-2.597133</td>\n",
       "      <td>2.597133</td>\n",
       "    </tr>\n",
       "    <tr>\n",
       "      <th>3</th>\n",
       "      <td>1.234133</td>\n",
       "      <td>0.874715</td>\n",
       "      <td>1.002004</td>\n",
       "      <td>1.150779</td>\n",
       "      <td>1.143856</td>\n",
       "      <td>-0.479857</td>\n",
       "      <td>-1.054472</td>\n",
       "      <td>-0.464016</td>\n",
       "      <td>-1.330954</td>\n",
       "      <td>-0.643249</td>\n",
       "      <td>...</td>\n",
       "      <td>-0.414858</td>\n",
       "      <td>-0.230940</td>\n",
       "      <td>-0.218507</td>\n",
       "      <td>-1.104129</td>\n",
       "      <td>1.599549</td>\n",
       "      <td>-0.281487</td>\n",
       "      <td>-1.087346</td>\n",
       "      <td>1.087346</td>\n",
       "      <td>0.385040</td>\n",
       "      <td>-0.385040</td>\n",
       "    </tr>\n",
       "    <tr>\n",
       "      <th>4</th>\n",
       "      <td>-1.480807</td>\n",
       "      <td>-0.190038</td>\n",
       "      <td>-0.090739</td>\n",
       "      <td>-0.042286</td>\n",
       "      <td>0.229234</td>\n",
       "      <td>0.440257</td>\n",
       "      <td>0.062194</td>\n",
       "      <td>-0.213796</td>\n",
       "      <td>-0.546287</td>\n",
       "      <td>-0.643249</td>\n",
       "      <td>...</td>\n",
       "      <td>-0.414858</td>\n",
       "      <td>-0.230940</td>\n",
       "      <td>-0.218507</td>\n",
       "      <td>0.905691</td>\n",
       "      <td>-0.625176</td>\n",
       "      <td>-0.281487</td>\n",
       "      <td>-1.087346</td>\n",
       "      <td>1.087346</td>\n",
       "      <td>0.385040</td>\n",
       "      <td>-0.385040</td>\n",
       "    </tr>\n",
       "    <tr>\n",
       "      <th>...</th>\n",
       "      <td>...</td>\n",
       "      <td>...</td>\n",
       "      <td>...</td>\n",
       "      <td>...</td>\n",
       "      <td>...</td>\n",
       "      <td>...</td>\n",
       "      <td>...</td>\n",
       "      <td>...</td>\n",
       "      <td>...</td>\n",
       "      <td>...</td>\n",
       "      <td>...</td>\n",
       "      <td>...</td>\n",
       "      <td>...</td>\n",
       "      <td>...</td>\n",
       "      <td>...</td>\n",
       "      <td>...</td>\n",
       "      <td>...</td>\n",
       "      <td>...</td>\n",
       "      <td>...</td>\n",
       "      <td>...</td>\n",
       "      <td>...</td>\n",
       "    </tr>\n",
       "    <tr>\n",
       "      <th>390</th>\n",
       "      <td>-0.575827</td>\n",
       "      <td>-0.456226</td>\n",
       "      <td>-0.309288</td>\n",
       "      <td>-0.042286</td>\n",
       "      <td>-0.685387</td>\n",
       "      <td>-0.479857</td>\n",
       "      <td>1.178860</td>\n",
       "      <td>0.661975</td>\n",
       "      <td>2.592380</td>\n",
       "      <td>-0.643249</td>\n",
       "      <td>...</td>\n",
       "      <td>-0.414858</td>\n",
       "      <td>-0.230940</td>\n",
       "      <td>-0.218507</td>\n",
       "      <td>-1.104129</td>\n",
       "      <td>1.599549</td>\n",
       "      <td>-0.281487</td>\n",
       "      <td>-1.087346</td>\n",
       "      <td>1.087346</td>\n",
       "      <td>0.385040</td>\n",
       "      <td>-0.385040</td>\n",
       "    </tr>\n",
       "    <tr>\n",
       "      <th>391</th>\n",
       "      <td>0.932473</td>\n",
       "      <td>1.407091</td>\n",
       "      <td>1.220553</td>\n",
       "      <td>-1.235351</td>\n",
       "      <td>0.229234</td>\n",
       "      <td>-1.399970</td>\n",
       "      <td>-2.171138</td>\n",
       "      <td>-0.338906</td>\n",
       "      <td>0.238380</td>\n",
       "      <td>0.792251</td>\n",
       "      <td>...</td>\n",
       "      <td>-0.414858</td>\n",
       "      <td>-0.230940</td>\n",
       "      <td>-0.218507</td>\n",
       "      <td>-1.104129</td>\n",
       "      <td>1.599549</td>\n",
       "      <td>-0.281487</td>\n",
       "      <td>0.919671</td>\n",
       "      <td>-0.919671</td>\n",
       "      <td>0.385040</td>\n",
       "      <td>-0.385040</td>\n",
       "    </tr>\n",
       "    <tr>\n",
       "      <th>392</th>\n",
       "      <td>-0.274167</td>\n",
       "      <td>-0.722415</td>\n",
       "      <td>-0.746385</td>\n",
       "      <td>-1.235351</td>\n",
       "      <td>-1.600009</td>\n",
       "      <td>-1.399970</td>\n",
       "      <td>1.178860</td>\n",
       "      <td>-0.338906</td>\n",
       "      <td>3.377047</td>\n",
       "      <td>-0.643249</td>\n",
       "      <td>...</td>\n",
       "      <td>-0.414858</td>\n",
       "      <td>-0.230940</td>\n",
       "      <td>-0.218507</td>\n",
       "      <td>0.905691</td>\n",
       "      <td>-0.625176</td>\n",
       "      <td>-0.281487</td>\n",
       "      <td>0.919671</td>\n",
       "      <td>-0.919671</td>\n",
       "      <td>0.385040</td>\n",
       "      <td>-0.385040</td>\n",
       "    </tr>\n",
       "    <tr>\n",
       "      <th>393</th>\n",
       "      <td>0.027493</td>\n",
       "      <td>0.342338</td>\n",
       "      <td>-0.090739</td>\n",
       "      <td>-1.235351</td>\n",
       "      <td>0.229234</td>\n",
       "      <td>-0.479857</td>\n",
       "      <td>0.062194</td>\n",
       "      <td>-0.714236</td>\n",
       "      <td>1.023046</td>\n",
       "      <td>2.227751</td>\n",
       "      <td>...</td>\n",
       "      <td>-0.414858</td>\n",
       "      <td>-0.230940</td>\n",
       "      <td>-0.218507</td>\n",
       "      <td>0.905691</td>\n",
       "      <td>-0.625176</td>\n",
       "      <td>-0.281487</td>\n",
       "      <td>0.919671</td>\n",
       "      <td>-0.919671</td>\n",
       "      <td>0.385040</td>\n",
       "      <td>-0.385040</td>\n",
       "    </tr>\n",
       "    <tr>\n",
       "      <th>394</th>\n",
       "      <td>-0.877487</td>\n",
       "      <td>-0.456226</td>\n",
       "      <td>-0.309288</td>\n",
       "      <td>-1.235351</td>\n",
       "      <td>-1.600009</td>\n",
       "      <td>-1.399970</td>\n",
       "      <td>-1.054472</td>\n",
       "      <td>-0.088686</td>\n",
       "      <td>1.807713</td>\n",
       "      <td>-0.643249</td>\n",
       "      <td>...</td>\n",
       "      <td>-0.414858</td>\n",
       "      <td>4.330127</td>\n",
       "      <td>-0.218507</td>\n",
       "      <td>-1.104129</td>\n",
       "      <td>-0.625176</td>\n",
       "      <td>-0.281487</td>\n",
       "      <td>0.919671</td>\n",
       "      <td>-0.919671</td>\n",
       "      <td>0.385040</td>\n",
       "      <td>-0.385040</td>\n",
       "    </tr>\n",
       "  </tbody>\n",
       "</table>\n",
       "<p>395 rows × 28 columns</p>\n",
       "</div>"
      ],
      "text/plain": [
       "           G1        G2        G3  studytime      Medu      Fedu    famrel  \\\n",
       "0   -1.782467 -1.254791 -0.964934  -0.042286  1.143856  1.360371  0.062194   \n",
       "1   -1.782467 -1.520979 -0.964934  -0.042286 -1.600009 -1.399970  1.178860   \n",
       "2   -1.179147 -0.722415 -0.090739  -0.042286 -1.600009 -1.399970  0.062194   \n",
       "3    1.234133  0.874715  1.002004   1.150779  1.143856 -0.479857 -1.054472   \n",
       "4   -1.480807 -0.190038 -0.090739  -0.042286  0.229234  0.440257  0.062194   \n",
       "..        ...       ...       ...        ...       ...       ...       ...   \n",
       "390 -0.575827 -0.456226 -0.309288  -0.042286 -0.685387 -0.479857  1.178860   \n",
       "391  0.932473  1.407091  1.220553  -1.235351  0.229234 -1.399970 -2.171138   \n",
       "392 -0.274167 -0.722415 -0.746385  -1.235351 -1.600009 -1.399970  1.178860   \n",
       "393  0.027493  0.342338 -0.090739  -1.235351  0.229234 -0.479857  0.062194   \n",
       "394 -0.877487 -0.456226 -0.309288  -1.235351 -1.600009 -1.399970 -1.054472   \n",
       "\n",
       "     absences       age  traveltime  ...  Mjob_teacher  Fjob_at_home  \\\n",
       "0    0.036424  1.023046    0.792251  ...     -0.414858     -0.230940   \n",
       "1   -0.213796  0.238380   -0.643249  ...     -0.414858     -0.230940   \n",
       "2    0.536865 -1.330954   -0.643249  ...     -0.414858     -0.230940   \n",
       "3   -0.464016 -1.330954   -0.643249  ...     -0.414858     -0.230940   \n",
       "4   -0.213796 -0.546287   -0.643249  ...     -0.414858     -0.230940   \n",
       "..        ...       ...         ...  ...           ...           ...   \n",
       "390  0.661975  2.592380   -0.643249  ...     -0.414858     -0.230940   \n",
       "391 -0.338906  0.238380    0.792251  ...     -0.414858     -0.230940   \n",
       "392 -0.338906  3.377047   -0.643249  ...     -0.414858     -0.230940   \n",
       "393 -0.714236  1.023046    2.227751  ...     -0.414858     -0.230940   \n",
       "394 -0.088686  1.807713   -0.643249  ...     -0.414858      4.330127   \n",
       "\n",
       "     Fjob_health  Fjob_other  Fjob_services  Fjob_teacher   paid_no  paid_yes  \\\n",
       "0      -0.218507   -1.104129      -0.625176      3.552561  0.919671 -0.919671   \n",
       "1      -0.218507    0.905691      -0.625176     -0.281487  0.919671 -0.919671   \n",
       "2      -0.218507    0.905691      -0.625176     -0.281487 -1.087346  1.087346   \n",
       "3      -0.218507   -1.104129       1.599549     -0.281487 -1.087346  1.087346   \n",
       "4      -0.218507    0.905691      -0.625176     -0.281487 -1.087346  1.087346   \n",
       "..           ...         ...            ...           ...       ...       ...   \n",
       "390    -0.218507   -1.104129       1.599549     -0.281487 -1.087346  1.087346   \n",
       "391    -0.218507   -1.104129       1.599549     -0.281487  0.919671 -0.919671   \n",
       "392    -0.218507    0.905691      -0.625176     -0.281487  0.919671 -0.919671   \n",
       "393    -0.218507    0.905691      -0.625176     -0.281487  0.919671 -0.919671   \n",
       "394    -0.218507   -1.104129      -0.625176     -0.281487  0.919671 -0.919671   \n",
       "\n",
       "     schoolsup_no  schoolsup_yes  \n",
       "0       -2.597133       2.597133  \n",
       "1        0.385040      -0.385040  \n",
       "2       -2.597133       2.597133  \n",
       "3        0.385040      -0.385040  \n",
       "4        0.385040      -0.385040  \n",
       "..            ...            ...  \n",
       "390      0.385040      -0.385040  \n",
       "391      0.385040      -0.385040  \n",
       "392      0.385040      -0.385040  \n",
       "393      0.385040      -0.385040  \n",
       "394      0.385040      -0.385040  \n",
       "\n",
       "[395 rows x 28 columns]"
      ]
     },
     "execution_count": 134,
     "metadata": {},
     "output_type": "execute_result"
    }
   ],
   "source": [
    "features = data_2.copy()\n",
    "categorical_subset = pd.get_dummies(data_obj)        \n",
    "features = pd.concat([data_2, categorical_subset], axis = 1)\n",
    "\n",
    "scaler = StandardScaler().fit(features)\n",
    "features = pd.DataFrame(scaler.transform(features), columns=features.columns, index=features.index) \n",
    "features"
   ]
  },
  {
   "cell_type": "code",
   "execution_count": 49,
   "metadata": {
    "ExecuteTime": {
     "end_time": "2020-12-23T15:42:53.663539Z",
     "start_time": "2020-12-23T15:42:53.659771Z"
    }
   },
   "outputs": [],
   "source": [
    "# features = data_2.copy()\n",
    "# categorical_subset = data.select_dtypes('object')    \n",
    "# categorical_subset = pd.get_dummies(categorical_subset)\n",
    "# features = pd.concat([data_2, categorical_subset], axis = 1)\n",
    "\n",
    "# scaler = StandardScaler().fit(features)\n",
    "# features = pd.DataFrame(scaler.transform(features), columns=features.columns, index=features.index) \n",
    "# features"
   ]
  },
  {
   "cell_type": "code",
   "execution_count": 88,
   "metadata": {
    "ExecuteTime": {
     "end_time": "2020-12-23T15:42:53.673541Z",
     "start_time": "2020-12-23T15:42:53.664535Z"
    }
   },
   "outputs": [
    {
     "name": "stdout",
     "output_type": "stream",
     "text": [
      "10665\n",
      "395\n"
     ]
    }
   ],
   "source": [
    "x = np.array(features.drop([predict], axis=1))\n",
    "y = np.array(features[predict])\n",
    "\n",
    "X_train, X_test, Y_train, Y_test = train_test_split(x, y, test_size=0.2, random_state = 46)"
   ]
  },
  {
   "cell_type": "code",
   "execution_count": 155,
   "metadata": {
    "ExecuteTime": {
     "end_time": "2020-12-23T15:42:53.690468Z",
     "start_time": "2020-12-23T15:42:53.676504Z"
    }
   },
   "outputs": [
    {
     "name": "stdout",
     "output_type": "stream",
     "text": [
      "MSE : 0.13348020180702463\n",
      "Правильность на обучающем наборе: 0.82455\n",
      "Правильность на тестовом наборе: 0.87875\n"
     ]
    }
   ],
   "source": [
    "regressions = pd.DataFrame(columns = [\"name\",'func','MSE','r2'])\n",
    "linear = LinearRegression()\n",
    "\n",
    "linear.fit(X_train, Y_train)\n",
    "predicted = linear.predict(X_test)\n",
    "print (\"MSE :\", metrics.mean_squared_error(Y_test,predicted))\n",
    "print(\"Правильность на обучающем наборе: {:.5f}\".format(linear.score(X_train, Y_train)))\n",
    "print(\"Правильность на тестовом наборе: {:.5f}\".format(linear.score(X_test, Y_test)))"
   ]
  },
  {
   "cell_type": "code",
   "execution_count": 68,
   "metadata": {
    "ExecuteTime": {
     "end_time": "2020-12-23T15:42:53.699493Z",
     "start_time": "2020-12-23T15:42:53.692461Z"
    }
   },
   "outputs": [],
   "source": [
    "def regression(name,func,regressions, i):\n",
    "    func.fit(X_train, Y_train)\n",
    "    predicted = func.predict(X_test)\n",
    "    regressions.loc[i, 'name'] = name\n",
    "    regressions.loc[i, 'func'] = func\n",
    "    regressions.loc[i, 'MSE'] = metrics.mean_squared_error(Y_test,predicted)\n",
    "    regressions.loc[i, 'r2'] = func.score(X_test, Y_test)"
   ]
  },
  {
   "cell_type": "code",
   "execution_count": 187,
   "metadata": {
    "ExecuteTime": {
     "end_time": "2020-12-23T15:42:54.080179Z",
     "start_time": "2020-12-23T15:42:53.701436Z"
    }
   },
   "outputs": [
    {
     "data": {
      "text/html": [
       "<div>\n",
       "<style scoped>\n",
       "    .dataframe tbody tr th:only-of-type {\n",
       "        vertical-align: middle;\n",
       "    }\n",
       "\n",
       "    .dataframe tbody tr th {\n",
       "        vertical-align: top;\n",
       "    }\n",
       "\n",
       "    .dataframe thead th {\n",
       "        text-align: right;\n",
       "    }\n",
       "</style>\n",
       "<table border=\"1\" class=\"dataframe\">\n",
       "  <thead>\n",
       "    <tr style=\"text-align: right;\">\n",
       "      <th></th>\n",
       "      <th>name</th>\n",
       "      <th>MSE</th>\n",
       "      <th>r2</th>\n",
       "    </tr>\n",
       "  </thead>\n",
       "  <tbody>\n",
       "    <tr>\n",
       "      <th>4</th>\n",
       "      <td>RandomForestRegressor</td>\n",
       "      <td>0.114888</td>\n",
       "      <td>0.89564</td>\n",
       "    </tr>\n",
       "    <tr>\n",
       "      <th>6</th>\n",
       "      <td>LinearRegression</td>\n",
       "      <td>0.13348</td>\n",
       "      <td>0.878751</td>\n",
       "    </tr>\n",
       "    <tr>\n",
       "      <th>0</th>\n",
       "      <td>Ridge</td>\n",
       "      <td>0.134954</td>\n",
       "      <td>0.877412</td>\n",
       "    </tr>\n",
       "    <tr>\n",
       "      <th>2</th>\n",
       "      <td>SGDRegressor</td>\n",
       "      <td>0.135146</td>\n",
       "      <td>0.877238</td>\n",
       "    </tr>\n",
       "    <tr>\n",
       "      <th>3</th>\n",
       "      <td>GradientBoostingRegressor</td>\n",
       "      <td>0.160925</td>\n",
       "      <td>0.853821</td>\n",
       "    </tr>\n",
       "    <tr>\n",
       "      <th>5</th>\n",
       "      <td>DecisionTreeRegressor</td>\n",
       "      <td>0.166114</td>\n",
       "      <td>0.849108</td>\n",
       "    </tr>\n",
       "    <tr>\n",
       "      <th>1</th>\n",
       "      <td>KNeighborsRegressor</td>\n",
       "      <td>0.475271</td>\n",
       "      <td>0.568281</td>\n",
       "    </tr>\n",
       "  </tbody>\n",
       "</table>\n",
       "</div>"
      ],
      "text/plain": [
       "                        name       MSE        r2\n",
       "4      RandomForestRegressor  0.114888   0.89564\n",
       "6           LinearRegression   0.13348  0.878751\n",
       "0                      Ridge  0.134954  0.877412\n",
       "2               SGDRegressor  0.135146  0.877238\n",
       "3  GradientBoostingRegressor  0.160925  0.853821\n",
       "5      DecisionTreeRegressor  0.166114  0.849108\n",
       "1        KNeighborsRegressor  0.475271  0.568281"
      ]
     },
     "execution_count": 187,
     "metadata": {},
     "output_type": "execute_result"
    }
   ],
   "source": [
    "regression(\"Ridge\",Ridge(),regressions,0)\n",
    "regression(\"KNeighborsRegressor\",KNeighborsRegressor(n_neighbors=10, weights=\"distance\"),regressions,1)\n",
    "regression(\"SGDRegressor\", SGDRegressor(),regressions,2)\n",
    "regression(\"GradientBoostingRegressor\", GradientBoostingRegressor(random_state=0, n_estimators=150),regressions,3)\n",
    "regression(\"RandomForestRegressor\",RandomForestRegressor(random_state=0, n_estimators=50),regressions,4)\n",
    "regression(\"DecisionTreeRegressor\",DecisionTreeRegressor(random_state=0, criterion=\"mae\", max_depth=4),regressions,5)\n",
    "regression(\"LinearRegression\",LinearRegression(),regressions,6)\n",
    "\n",
    "best = regressions.sort_values(by='r2', ascending=False).head(7)\n",
    "best.drop(columns=[\"func\"])"
   ]
  },
  {
   "cell_type": "code",
   "execution_count": 188,
   "metadata": {
    "ExecuteTime": {
     "end_time": "2020-12-23T15:42:54.088166Z",
     "start_time": "2020-12-23T15:42:54.081208Z"
    }
   },
   "outputs": [],
   "source": [
    "def check_regression_n_times(func, N):\n",
    "    r2 = 0\n",
    "    MSE = 0\n",
    "    \n",
    "    for i in range(N):\n",
    "        X_train, X_test, Y_train, Y_test = train_test_split(x, y, test_size=0.2, random_state = 15+i)\n",
    "        func.fit(X_train, Y_train)\n",
    "        predicted = func.predict(X_test)\n",
    "        MSE +=  metrics.mean_squared_error(Y_test,predicted)\n",
    "        r2 += func.score(X_test, Y_test)\n",
    "    \n",
    "    best.loc[best['func'] == func, 'MSE'] = MSE/N\n",
    "    best.loc[best['func'] == func, 'r2'] = r2/N"
   ]
  },
  {
   "cell_type": "code",
   "execution_count": 189,
   "metadata": {
    "ExecuteTime": {
     "end_time": "2020-12-23T15:42:55.843285Z",
     "start_time": "2020-12-23T15:42:54.090262Z"
    }
   },
   "outputs": [
    {
     "data": {
      "text/html": [
       "<div>\n",
       "<style scoped>\n",
       "    .dataframe tbody tr th:only-of-type {\n",
       "        vertical-align: middle;\n",
       "    }\n",
       "\n",
       "    .dataframe tbody tr th {\n",
       "        vertical-align: top;\n",
       "    }\n",
       "\n",
       "    .dataframe thead th {\n",
       "        text-align: right;\n",
       "    }\n",
       "</style>\n",
       "<table border=\"1\" class=\"dataframe\">\n",
       "  <thead>\n",
       "    <tr style=\"text-align: right;\">\n",
       "      <th></th>\n",
       "      <th>name</th>\n",
       "      <th>MSE</th>\n",
       "      <th>r2</th>\n",
       "    </tr>\n",
       "  </thead>\n",
       "  <tbody>\n",
       "    <tr>\n",
       "      <th>4</th>\n",
       "      <td>RandomForestRegressor</td>\n",
       "      <td>0.129783</td>\n",
       "      <td>0.87087</td>\n",
       "    </tr>\n",
       "    <tr>\n",
       "      <th>6</th>\n",
       "      <td>LinearRegression</td>\n",
       "      <td>0.180791</td>\n",
       "      <td>0.818698</td>\n",
       "    </tr>\n",
       "    <tr>\n",
       "      <th>0</th>\n",
       "      <td>Ridge</td>\n",
       "      <td>0.180993</td>\n",
       "      <td>0.81853</td>\n",
       "    </tr>\n",
       "    <tr>\n",
       "      <th>2</th>\n",
       "      <td>SGDRegressor</td>\n",
       "      <td>0.187969</td>\n",
       "      <td>0.81122</td>\n",
       "    </tr>\n",
       "    <tr>\n",
       "      <th>3</th>\n",
       "      <td>GradientBoostingRegressor</td>\n",
       "      <td>0.154543</td>\n",
       "      <td>0.845122</td>\n",
       "    </tr>\n",
       "    <tr>\n",
       "      <th>5</th>\n",
       "      <td>DecisionTreeRegressor</td>\n",
       "      <td>0.20626</td>\n",
       "      <td>0.792933</td>\n",
       "    </tr>\n",
       "    <tr>\n",
       "      <th>1</th>\n",
       "      <td>KNeighborsRegressor</td>\n",
       "      <td>0.530036</td>\n",
       "      <td>0.469126</td>\n",
       "    </tr>\n",
       "  </tbody>\n",
       "</table>\n",
       "</div>"
      ],
      "text/plain": [
       "                        name       MSE        r2\n",
       "4      RandomForestRegressor  0.129783   0.87087\n",
       "6           LinearRegression  0.180791  0.818698\n",
       "0                      Ridge  0.180993   0.81853\n",
       "2               SGDRegressor  0.187969   0.81122\n",
       "3  GradientBoostingRegressor  0.154543  0.845122\n",
       "5      DecisionTreeRegressor   0.20626  0.792933\n",
       "1        KNeighborsRegressor  0.530036  0.469126"
      ]
     },
     "execution_count": 189,
     "metadata": {},
     "output_type": "execute_result"
    }
   ],
   "source": [
    "for func in best['func']:\n",
    "    check_regression_n_times(func, 10)\n",
    "best.drop(columns=[\"func\"])"
   ]
  },
  {
   "cell_type": "code",
   "execution_count": 176,
   "metadata": {},
   "outputs": [
    {
     "data": {
      "image/png": "[encoded data removed]",
      "text/plain": [
       "<Figure size 1440x720 with 1 Axes>"
      ]
     },
     "metadata": {
      "needs_background": "light"
     },
     "output_type": "display_data"
    }
   ],
   "source": [
    "rfr = RandomForestRegressor(random_state=0, n_estimators=50)\n",
    "rfr.fit(X_train, Y_train)\n",
    "predicted = rfr.predict(X_test)\n",
    "comparison = pd.DataFrame(columns=[\"Real\",\"Prediction\"])\n",
    "\n",
    "f = features.drop([predict], axis=1)\n",
    "\n",
    "tmp_df = pd.DataFrame(X_test, columns=f.columns)\n",
    "tmp_df[\"G3\"] = predicted\n",
    "tmp_df = tmp_df.reindex(columns=features.columns)\n",
    "tmp_df = pd.DataFrame(scaler.inverse_transform(tmp_df), columns=tmp_df.columns, index=tmp_df.index)\n",
    "comparison[\"Prediction\"] = tmp_df[\"G3\"]\n",
    "\n",
    "\n",
    "tmp_df = pd.DataFrame(X_test, columns=f.columns)\n",
    "tmp_df[\"G3\"] = Y_test\n",
    "tmp_df = tmp_df.reindex(columns=features.columns)\n",
    "tmp_df = pd.DataFrame(scaler.inverse_transform(tmp_df), columns=tmp_df.columns, index=tmp_df.index)\n",
    "comparison[\"Real\"] = tmp_df[\"G3\"]\n",
    "\n",
    "ax = comparison.plot.bar(rot=0, figsize=(20,10))"
   ]
  }
 ],
 "metadata": {
  "kernelspec": {
   "display_name": "Python 3",
   "language": "python",
   "name": "python3"
  },
  "language_info": {
   "codemirror_mode": {
    "name": "ipython",
    "version": 3
   },
   "file_extension": ".py",
   "mimetype": "text/x-python",
   "name": "python",
   "nbconvert_exporter": "python",
   "pygments_lexer": "ipython3",
   "version": "3.8.5"
  }
 },
 "nbformat": 4,
 "nbformat_minor": 4
}
